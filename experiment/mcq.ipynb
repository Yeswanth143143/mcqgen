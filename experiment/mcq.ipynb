{
 "cells": [
  {
   "cell_type": "code",
   "execution_count": 47,
   "metadata": {},
   "outputs": [],
   "source": [
    "import pandas as pd"
   ]
  },
  {
   "cell_type": "code",
   "execution_count": 1,
   "metadata": {},
   "outputs": [],
   "source": [
    "import os\n",
    "import json\n",
    "import traceback"
   ]
  },
  {
   "cell_type": "code",
   "execution_count": 2,
   "metadata": {},
   "outputs": [],
   "source": [
    "from langchain_openai import ChatOpenAI"
   ]
  },
  {
   "cell_type": "code",
   "execution_count": 3,
   "metadata": {},
   "outputs": [],
   "source": [
    "key= os.getenv(\"OPENAI_KEY\")"
   ]
  },
  {
   "cell_type": "code",
   "execution_count": 4,
   "metadata": {},
   "outputs": [],
   "source": [
    "from dotenv import load_dotenv"
   ]
  },
  {
   "cell_type": "code",
   "execution_count": 5,
   "metadata": {},
   "outputs": [],
   "source": [
    "llm= ChatOpenAI(openai_api_key=key,model_name=\"gpt-3.5-turbo\",temperature=0.3)"
   ]
  },
  {
   "cell_type": "code",
   "execution_count": 11,
   "metadata": {},
   "outputs": [
    {
     "data": {
      "text/plain": [
       "ChatOpenAI(client=<openai.resources.chat.completions.Completions object at 0x000001ADF68E5EE0>, async_client=<openai.resources.chat.completions.AsyncCompletions object at 0x000001ADF68F08B0>, root_client=<openai.OpenAI object at 0x000001ADF689E970>, root_async_client=<openai.AsyncOpenAI object at 0x000001ADF68E5F10>, temperature=0.3, openai_api_key=SecretStr('**********'), openai_proxy='')"
      ]
     },
     "execution_count": 11,
     "metadata": {},
     "output_type": "execute_result"
    }
   ],
   "source": [
    "llm"
   ]
  },
  {
   "cell_type": "code",
   "execution_count": 6,
   "metadata": {},
   "outputs": [],
   "source": [
    "#from langchain.llms import OpenAI\n",
    "from langchain.prompts import PromptTemplate\n",
    "from langchain.chains import LLMChain\n",
    "from langchain.chains import SequentialChain\n",
    "from langchain.callbacks import get_openai_callback\n",
    "import PyPDF2"
   ]
  },
  {
   "cell_type": "code",
   "execution_count": 7,
   "metadata": {},
   "outputs": [],
   "source": [
    "Template=\"\"\"\n",
    "Text:{text}\n",
    "You are an expert MCQ maker. Given the above text, it is your job to \\\n",
    "create a quiz  of {number} multiple choice questions for {subject} students in {tone} tone. \n",
    "Make sure the questions are not repeated and check all the questions to be conforming the text as well.\n",
    "Make sure to format your response like  RESPONSE_JSON below  and use it as a guide. \\\n",
    "Ensure to make {number} MCQs. \n",
    "### RESPONSE_JSON\n",
    "{response_json}\"\"\""
   ]
  },
  {
   "cell_type": "code",
   "execution_count": 8,
   "metadata": {},
   "outputs": [],
   "source": [
    "Template2=\"\"\"You are an expert english grammarian and writer. Given a Multiple Choice Quiz for {subject} students.\\\n",
    "You need to evaluate the complexity of the question and give a complete analysis of the quiz. Only use at max 50 words for complexity analysis. \n",
    "if the quiz is not at per with the cognitive and analytical abilities of the students,\\\n",
    "update the quiz questions which needs to be changed and change the tone such that it perfectly fits the student abilities.\n",
    "Quiz_MCQs:\n",
    "{quiz}\n",
    "\n",
    "Check from an expert English Writer of the above quiz:\n",
    "\"\"\""
   ]
  },
  {
   "cell_type": "code",
   "execution_count": 9,
   "metadata": {},
   "outputs": [],
   "source": [
    "response_json={\n",
    "    \"1\": {\n",
    "        \"mcq\": \"multiple choice question\",\n",
    "        \"options\": {\n",
    "            \"a\": \"choice here\",\n",
    "            \"b\": \"choice here\",\n",
    "            \"c\": \"choice here\",\n",
    "            \"d\": \"choice here\",\n",
    "        },\n",
    "        \"correct\": \"correct answer\",\n",
    "    },\n",
    "    \"2\": {\n",
    "        \"mcq\": \"multiple choice question\",\n",
    "        \"options\": {\n",
    "            \"a\": \"choice here\",\n",
    "            \"b\": \"choice here\",\n",
    "            \"c\": \"choice here\",\n",
    "            \"d\": \"choice here\",\n",
    "        },\n",
    "        \"correct\": \"correct answer\",\n",
    "    },\n",
    "    \"3\": {\n",
    "        \"mcq\": \"multiple choice question\",\n",
    "        \"options\": {\n",
    "            \"a\": \"choice here\",\n",
    "            \"b\": \"choice here\",\n",
    "            \"c\": \"choice here\",\n",
    "            \"d\": \"choice here\",\n",
    "        },\n",
    "        \"correct\": \"correct answer\",\n",
    "    },\n",
    "}"
   ]
  },
  {
   "cell_type": "code",
   "execution_count": 10,
   "metadata": {},
   "outputs": [],
   "source": [
    "quiz_prompt=PromptTemplate(\n",
    "    input_variables=[\"text\",\"number\",\"subject\",\"tone\",\"response_json\"],\n",
    "    template=Template\n",
    ")"
   ]
  },
  {
   "cell_type": "code",
   "execution_count": 11,
   "metadata": {},
   "outputs": [
    {
     "name": "stderr",
     "output_type": "stream",
     "text": [
      "C:\\Users\\saich\\AppData\\Local\\Temp\\ipykernel_7236\\2504320390.py:1: LangChainDeprecationWarning: The class `LLMChain` was deprecated in LangChain 0.1.17 and will be removed in 1.0. Use RunnableSequence, e.g., `prompt | llm` instead.\n",
      "  quiz_chain=LLMChain(llm=llm,prompt=quiz_prompt,output_key=\"quiz\",verbose=True)\n"
     ]
    }
   ],
   "source": [
    "quiz_chain=LLMChain(llm=llm,prompt=quiz_prompt,output_key=\"quiz\",verbose=True)"
   ]
  },
  {
   "cell_type": "code",
   "execution_count": 12,
   "metadata": {},
   "outputs": [],
   "source": [
    "quiz_evaluation=PromptTemplate(\n",
    "    input_variables=[\"subject\",\"quiz\"],\n",
    "    template=Template2\n",
    ")"
   ]
  },
  {
   "cell_type": "code",
   "execution_count": 13,
   "metadata": {},
   "outputs": [],
   "source": [
    "review_chain=LLMChain(llm=llm,prompt=quiz_evaluation,output_key=\"review\",verbose=True)"
   ]
  },
  {
   "cell_type": "code",
   "execution_count": 14,
   "metadata": {},
   "outputs": [],
   "source": [
    "generate_chain=SequentialChain(chains=[quiz_chain,review_chain],input_variables=[\"text\",\"number\",\"subject\",\"tone\",\"response_json\"],output_variables=[\"quiz\",\"review\"],verbose=True)"
   ]
  },
  {
   "cell_type": "code",
   "execution_count": 15,
   "metadata": {},
   "outputs": [
    {
     "data": {
      "text/plain": [
       "'{\"1\": {\"mcq\": \"multiple choice question\", \"options\": {\"a\": \"choice here\", \"b\": \"choice here\", \"c\": \"choice here\", \"d\": \"choice here\"}, \"correct\": \"correct answer\"}, \"2\": {\"mcq\": \"multiple choice question\", \"options\": {\"a\": \"choice here\", \"b\": \"choice here\", \"c\": \"choice here\", \"d\": \"choice here\"}, \"correct\": \"correct answer\"}, \"3\": {\"mcq\": \"multiple choice question\", \"options\": {\"a\": \"choice here\", \"b\": \"choice here\", \"c\": \"choice here\", \"d\": \"choice here\"}, \"correct\": \"correct answer\"}}'"
      ]
     },
     "execution_count": 15,
     "metadata": {},
     "output_type": "execute_result"
    }
   ],
   "source": [
    "json.dumps(response_json)"
   ]
  },
  {
   "cell_type": "code",
   "execution_count": 19,
   "metadata": {},
   "outputs": [],
   "source": [
    "with open(\"D:\\GenAI\\Projects\\mcqgen\\mcqtext.txt\", \"r\",encoding=\"utf-8\") as f:\n",
    "    text=f.read()"
   ]
  },
  {
   "cell_type": "code",
   "execution_count": 20,
   "metadata": {},
   "outputs": [],
   "source": [
    "TEXT=text\n",
    "NUMBER=3\n",
    "SUBJECT=\"ARTIFICIAL INTELLIGENCE\"\n",
    "TONE=\"MEDIUM\""
   ]
  },
  {
   "cell_type": "code",
   "execution_count": 21,
   "metadata": {},
   "outputs": [
    {
     "name": "stderr",
     "output_type": "stream",
     "text": [
      "C:\\Users\\saich\\AppData\\Local\\Temp\\ipykernel_7236\\2763546850.py:2: LangChainDeprecationWarning: The method `Chain.__call__` was deprecated in langchain 0.1.0 and will be removed in 1.0. Use invoke instead.\n",
      "  response=generate_chain(\n"
     ]
    },
    {
     "name": "stdout",
     "output_type": "stream",
     "text": [
      "\n",
      "\n",
      "\u001b[1m> Entering new SequentialChain chain...\u001b[0m\n",
      "\n",
      "\n",
      "\u001b[1m> Entering new LLMChain chain...\u001b[0m\n",
      "Prompt after formatting:\n",
      "\u001b[32;1m\u001b[1;3m\n",
      "Text:One of the pioneers of intelligent computers was Alan Turing. Often credited with laying the foundational theory for modern computing, he proposed the concept of a machine that could simulate any other machine (the Turing Machine) in the 1930s. His famous Turing Test, proposed in the 1950s, was a fundamental contribution to the field of AI, challenging whether machines could mimic human intelligence. However, it wasn’t until 1955 that John McCarthy founded AI as an academic discipline and called it “artificial intelligence.” He also developed a programming language called LISP in the late 1950s, which became crucial to AI development.\n",
      "\n",
      "Deep learning started to develop in the 1990s as researchers began creating early versions of deep learning algorithms, which were initially limited by the need for greater computational power. Then, in 1997, AI won during a chess game. This victory of IBM’s Deep Blue over world chess champion Garry Kasparov was a landmark moment, demonstrating AI's capabilities in mastering complex strategic games that involve deep logical and strategic thinking.\n",
      "\n",
      "The 1990s were pivotal for AI as more datasets were available, and internet technologies allowed the sharing of datasets for machine learning. The 2000s were even more phenomenal for AI. With more data and computing power, machine learning techniques flourished and assisted in web searches, online ads, and spam filtering, dramatically improving user experiences and system efficiencies. \n",
      "You are an expert MCQ maker. Given the above text, it is your job to create a quiz  of 3 multiple choice questions for ARTIFICIAL INTELLIGENCE students in MEDIUM tone. \n",
      "Make sure the questions are not repeated and check all the questions to be conforming the text as well.\n",
      "Make sure to format your response like  RESPONSE_JSON below  and use it as a guide. Ensure to make 3 MCQs. \n",
      "### RESPONSE_JSON\n",
      "{\"1\": {\"mcq\": \"multiple choice question\", \"options\": {\"a\": \"choice here\", \"b\": \"choice here\", \"c\": \"choice here\", \"d\": \"choice here\"}, \"correct\": \"correct answer\"}, \"2\": {\"mcq\": \"multiple choice question\", \"options\": {\"a\": \"choice here\", \"b\": \"choice here\", \"c\": \"choice here\", \"d\": \"choice here\"}, \"correct\": \"correct answer\"}, \"3\": {\"mcq\": \"multiple choice question\", \"options\": {\"a\": \"choice here\", \"b\": \"choice here\", \"c\": \"choice here\", \"d\": \"choice here\"}, \"correct\": \"correct answer\"}}\u001b[0m\n",
      "\n",
      "\u001b[1m> Finished chain.\u001b[0m\n",
      "\n",
      "\n",
      "\u001b[1m> Entering new LLMChain chain...\u001b[0m\n",
      "Prompt after formatting:\n",
      "\u001b[32;1m\u001b[1;3mYou are an expert english grammarian and writer. Given a Multiple Choice Quiz for ARTIFICIAL INTELLIGENCE students.You need to evaluate the complexity of the question and give a complete analysis of the quiz. Only use at max 50 words for complexity analysis. \n",
      "if the quiz is not at per with the cognitive and analytical abilities of the students,update the quiz questions which needs to be changed and change the tone such that it perfectly fits the student abilities\n",
      "Quiz_MCQs:\n",
      "{\n",
      "    \"1\": {\n",
      "        \"mcq\": \"Who is often credited with laying the foundational theory for modern computing?\",\n",
      "        \"options\": {\n",
      "            \"a\": \"John McCarthy\",\n",
      "            \"b\": \"Alan Turing\",\n",
      "            \"c\": \"Garry Kasparov\",\n",
      "            \"d\": \"Deep Blue\"\n",
      "        },\n",
      "        \"correct\": \"b\"\n",
      "    },\n",
      "    \"2\": {\n",
      "        \"mcq\": \"Which programming language was developed by John McCarthy in the late 1950s and became crucial to AI development?\",\n",
      "        \"options\": {\n",
      "            \"a\": \"Python\",\n",
      "            \"b\": \"Java\",\n",
      "            \"c\": \"LISP\",\n",
      "            \"d\": \"C++\"\n",
      "        },\n",
      "        \"correct\": \"c\"\n",
      "    },\n",
      "    \"3\": {\n",
      "        \"mcq\": \"In which decade did deep learning start to develop?\",\n",
      "        \"options\": {\n",
      "            \"a\": \"1960s\",\n",
      "            \"b\": \"1980s\",\n",
      "            \"c\": \"1990s\",\n",
      "            \"d\": \"2000s\"\n",
      "        },\n",
      "        \"correct\": \"c\"\n",
      "    }\n",
      "}\n",
      "\n",
      "Check from an expert English Writer of the above quiz:\n",
      "\u001b[0m\n",
      "\n",
      "\u001b[1m> Finished chain.\u001b[0m\n",
      "\n",
      "\u001b[1m> Finished chain.\u001b[0m\n"
     ]
    }
   ],
   "source": [
    "with get_openai_callback() as cb:\n",
    "    response=generate_chain(\n",
    "        {\n",
    "            \"text\": TEXT,\n",
    "            \"number\": NUMBER,\n",
    "            \"subject\":SUBJECT,\n",
    "            \"tone\": TONE,\n",
    "            \"response_json\": json.dumps(response_json)\n",
    "        }\n",
    "        )"
   ]
  },
  {
   "cell_type": "code",
   "execution_count": 22,
   "metadata": {},
   "outputs": [
    {
     "name": "stdout",
     "output_type": "stream",
     "text": [
      "Total Tokens:1380\n",
      "Prompt Tokens:889\n",
      "Completion Tokens:491\n",
      "Total Cost:0.0011810000000000002\n"
     ]
    }
   ],
   "source": [
    "print(f\"Total Tokens:{cb.total_tokens}\")\n",
    "print(f\"Prompt Tokens:{cb.prompt_tokens}\")\n",
    "print(f\"Completion Tokens:{cb.completion_tokens}\")\n",
    "print(f\"Total Cost:{cb.total_cost}\")"
   ]
  },
  {
   "cell_type": "code",
   "execution_count": 23,
   "metadata": {},
   "outputs": [],
   "source": [
    "quiz=response.get(\"quiz\")"
   ]
  },
  {
   "cell_type": "code",
   "execution_count": 24,
   "metadata": {},
   "outputs": [
    {
     "data": {
      "text/plain": [
       "'{\\n    \"1\": {\\n        \"mcq\": \"Who is often credited with laying the foundational theory for modern computing?\",\\n        \"options\": {\\n            \"a\": \"John McCarthy\",\\n            \"b\": \"Alan Turing\",\\n            \"c\": \"Garry Kasparov\",\\n            \"d\": \"Deep Blue\"\\n        },\\n        \"correct\": \"b\"\\n    },\\n    \"2\": {\\n        \"mcq\": \"Which programming language was developed by John McCarthy in the late 1950s and became crucial to AI development?\",\\n        \"options\": {\\n            \"a\": \"Python\",\\n            \"b\": \"Java\",\\n            \"c\": \"LISP\",\\n            \"d\": \"C++\"\\n        },\\n        \"correct\": \"c\"\\n    },\\n    \"3\": {\\n        \"mcq\": \"In which decade did deep learning start to develop?\",\\n        \"options\": {\\n            \"a\": \"1960s\",\\n            \"b\": \"1980s\",\\n            \"c\": \"1990s\",\\n            \"d\": \"2000s\"\\n        },\\n        \"correct\": \"c\"\\n    }\\n}'"
      ]
     },
     "execution_count": 24,
     "metadata": {},
     "output_type": "execute_result"
    }
   ],
   "source": [
    "quiz"
   ]
  },
  {
   "cell_type": "code",
   "execution_count": 25,
   "metadata": {},
   "outputs": [],
   "source": [
    "review=response.get(\"review\")"
   ]
  },
  {
   "cell_type": "code",
   "execution_count": 56,
   "metadata": {},
   "outputs": [
    {
     "data": {
      "text/plain": [
       "'The quiz is moderately complex for ARTIFICIAL INTELLIGENCE students. The questions cover key historical events and figures in AI. However, the language and tone could be simplified for better understanding. For example, \"Who proposed the concept of a machine that could simulate any other machine in the 1930s?\" could be rephrased as \"Who first suggested a machine that could mimic other machines in the 1930s?\" to make it more student-friendly.'"
      ]
     },
     "execution_count": 56,
     "metadata": {},
     "output_type": "execute_result"
    }
   ],
   "source": [
    "review"
   ]
  },
  {
   "cell_type": "code",
   "execution_count": 26,
   "metadata": {},
   "outputs": [],
   "source": [
    "formatted_quiz = json.dumps(json.loads(quiz), indent=None, separators=(',', ':'))"
   ]
  },
  {
   "cell_type": "code",
   "execution_count": 27,
   "metadata": {},
   "outputs": [
    {
     "data": {
      "text/plain": [
       "'{\"1\":{\"mcq\":\"Who is often credited with laying the foundational theory for modern computing?\",\"options\":{\"a\":\"John McCarthy\",\"b\":\"Alan Turing\",\"c\":\"Garry Kasparov\",\"d\":\"Deep Blue\"},\"correct\":\"b\"},\"2\":{\"mcq\":\"Which programming language was developed by John McCarthy in the late 1950s and became crucial to AI development?\",\"options\":{\"a\":\"Python\",\"b\":\"Java\",\"c\":\"LISP\",\"d\":\"C++\"},\"correct\":\"c\"},\"3\":{\"mcq\":\"In which decade did deep learning start to develop?\",\"options\":{\"a\":\"1960s\",\"b\":\"1980s\",\"c\":\"1990s\",\"d\":\"2000s\"},\"correct\":\"c\"}}'"
      ]
     },
     "execution_count": 27,
     "metadata": {},
     "output_type": "execute_result"
    }
   ],
   "source": [
    "formatted_quiz"
   ]
  },
  {
   "cell_type": "code",
   "execution_count": 35,
   "metadata": {},
   "outputs": [],
   "source": [
    "quiz=json.loads(formatted_quiz)"
   ]
  },
  {
   "cell_type": "code",
   "execution_count": 36,
   "metadata": {},
   "outputs": [
    {
     "data": {
      "text/plain": [
       "{'1': {'mcq': 'Who is often credited with laying the foundational theory for modern computing?',\n",
       "  'options': {'a': 'John McCarthy',\n",
       "   'b': 'Alan Turing',\n",
       "   'c': 'Garry Kasparov',\n",
       "   'd': 'Deep Blue'},\n",
       "  'correct': 'b'},\n",
       " '2': {'mcq': 'Which programming language was developed by John McCarthy in the late 1950s and became crucial to AI development?',\n",
       "  'options': {'a': 'Python', 'b': 'Java', 'c': 'LISP', 'd': 'C++'},\n",
       "  'correct': 'c'},\n",
       " '3': {'mcq': 'In which decade did deep learning start to develop?',\n",
       "  'options': {'a': '1960s', 'b': '1980s', 'c': '1990s', 'd': '2000s'},\n",
       "  'correct': 'c'}}"
      ]
     },
     "execution_count": 36,
     "metadata": {},
     "output_type": "execute_result"
    }
   ],
   "source": [
    "quiz"
   ]
  },
  {
   "cell_type": "code",
   "execution_count": 38,
   "metadata": {},
   "outputs": [
    {
     "name": "stdout",
     "output_type": "stream",
     "text": [
      "1 {'mcq': 'Who is often credited with laying the foundational theory for modern computing?', 'options': {'a': 'John McCarthy', 'b': 'Alan Turing', 'c': 'Garry Kasparov', 'd': 'Deep Blue'}, 'correct': 'b'}\n",
      "2 {'mcq': 'Which programming language was developed by John McCarthy in the late 1950s and became crucial to AI development?', 'options': {'a': 'Python', 'b': 'Java', 'c': 'LISP', 'd': 'C++'}, 'correct': 'c'}\n",
      "3 {'mcq': 'In which decade did deep learning start to develop?', 'options': {'a': '1960s', 'b': '1980s', 'c': '1990s', 'd': '2000s'}, 'correct': 'c'}\n"
     ]
    }
   ],
   "source": [
    "for key,value in quiz.items():\n",
    "    print(key,value)"
   ]
  },
  {
   "cell_type": "code",
   "execution_count": 44,
   "metadata": {},
   "outputs": [],
   "source": [
    "quiz_table_data=[]\n",
    "for _,value in quiz.items():\n",
    "    quiz_table_data.append([value[\"mcq\"],\"|\".join(f\"{opt} | {opt_val}\" for opt,opt_val in value[\"options\"].items()),value[\"correct\"]])"
   ]
  },
  {
   "cell_type": "code",
   "execution_count": 45,
   "metadata": {},
   "outputs": [
    {
     "data": {
      "text/plain": [
       "[['Who is often credited with laying the foundational theory for modern computing?',\n",
       "  'a | John McCarthy|b | Alan Turing|c | Garry Kasparov|d | Deep Blue',\n",
       "  'b'],\n",
       " ['Which programming language was developed by John McCarthy in the late 1950s and became crucial to AI development?',\n",
       "  'a | Python|b | Java|c | LISP|d | C++',\n",
       "  'c'],\n",
       " ['In which decade did deep learning start to develop?',\n",
       "  'a | 1960s|b | 1980s|c | 1990s|d | 2000s',\n",
       "  'c']]"
      ]
     },
     "execution_count": 45,
     "metadata": {},
     "output_type": "execute_result"
    }
   ],
   "source": [
    "quiz_table_data"
   ]
  },
  {
   "cell_type": "code",
   "execution_count": 49,
   "metadata": {},
   "outputs": [],
   "source": [
    "quiz=pd.DataFrame(quiz_table_data)\n",
    "quiz=quiz.to_csv(\"Quiz_pdf.csv\",index=False)"
   ]
  }
 ],
 "metadata": {
  "kernelspec": {
   "display_name": "Python 3",
   "language": "python",
   "name": "python3"
  },
  "language_info": {
   "codemirror_mode": {
    "name": "ipython",
    "version": 3
   },
   "file_extension": ".py",
   "mimetype": "text/x-python",
   "name": "python",
   "nbconvert_exporter": "python",
   "pygments_lexer": "ipython3",
   "version": "3.8.20"
  }
 },
 "nbformat": 4,
 "nbformat_minor": 2
}
